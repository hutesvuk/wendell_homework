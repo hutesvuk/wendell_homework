{
 "cells": [
  {
   "cell_type": "markdown",
   "metadata": {},
   "source": [
    "# 前三名虛擬貨幣匯率換算"
   ]
  },
  {
   "cell_type": "code",
   "execution_count": 14,
   "metadata": {},
   "outputs": [
    {
     "name": "stdout",
     "output_type": "stream",
     "text": [
      "BTC= 0.17\n",
      "equal to 44880.0 NTD \n"
     ]
    }
   ],
   "source": [
    "B = input(\"BTC= \")\n",
    "twd = float(B) * 8800 * 30\n",
    "print(\"equal to \" + str(twd) + \" NTD \")"
   ]
  },
  {
   "cell_type": "code",
   "execution_count": 15,
   "metadata": {},
   "outputs": [
    {
     "name": "stdout",
     "output_type": "stream",
     "text": [
      "ETH= 17\n",
      "equal to 117300.0 NTD \n"
     ]
    }
   ],
   "source": [
    "E = input(\"ETH= \")\n",
    "twd = float(E) * 230 * 30\n",
    "print(\"equal to \" + str(twd) + \" NTD \")"
   ]
  },
  {
   "cell_type": "code",
   "execution_count": 19,
   "metadata": {},
   "outputs": [
    {
     "name": "stdout",
     "output_type": "stream",
     "text": [
      "XRP= 10\n",
      "equal to 71.1462 NTD \n"
     ]
    }
   ],
   "source": [
    "X = input(\"XRP= \")\n",
    "twd = float(X) * 0.237154 * 30\n",
    "print(\"equal to \" + str(twd) + \" NTD \")"
   ]
  },
  {
   "cell_type": "code",
   "execution_count": 20,
   "metadata": {},
   "outputs": [
    {
     "name": "stdout",
     "output_type": "stream",
     "text": [
      "162251.1462\n"
     ]
    }
   ],
   "source": [
    "print(float(B)* 8800 * 30 + float(E)* 230 * 30 + float(X) * 0.237154 * 30)"
   ]
  },
  {
   "cell_type": "code",
   "execution_count": null,
   "metadata": {},
   "outputs": [],
   "source": []
  }
 ],
 "metadata": {
  "kernelspec": {
   "display_name": "Python 3",
   "language": "python",
   "name": "python3"
  },
  "language_info": {
   "codemirror_mode": {
    "name": "ipython",
    "version": 3
   },
   "file_extension": ".py",
   "mimetype": "text/x-python",
   "name": "python",
   "nbconvert_exporter": "python",
   "pygments_lexer": "ipython3",
   "version": "3.6.5"
  }
 },
 "nbformat": 4,
 "nbformat_minor": 2
}
