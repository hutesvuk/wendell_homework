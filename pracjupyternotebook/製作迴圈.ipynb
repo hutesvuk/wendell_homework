{
 "cells": [
  {
   "cell_type": "code",
   "execution_count": 1,
   "metadata": {},
   "outputs": [
    {
     "name": "stdout",
     "output_type": "stream",
     "text": [
      "how is your day?not bac\n",
      "oh really?\n",
      "how is your day?good\n",
      "oh really?\n",
      "how is your day?fuck off\n",
      "oh really?\n"
     ]
    }
   ],
   "source": [
    "message = \"\"\n",
    "while message !=\"fuck off\":\n",
    "    message =input(\"how is your day?\")\n",
    "    print(\"oh really?\")"
   ]
  },
  {
   "cell_type": "code",
   "execution_count": null,
   "metadata": {},
   "outputs": [],
   "source": []
  }
 ],
 "metadata": {
  "kernelspec": {
   "display_name": "Python 3",
   "language": "python",
   "name": "python3"
  },
  "language_info": {
   "codemirror_mode": {
    "name": "ipython",
    "version": 3
   },
   "file_extension": ".py",
   "mimetype": "text/x-python",
   "name": "python",
   "nbconvert_exporter": "python",
   "pygments_lexer": "ipython3",
   "version": "3.6.5"
  }
 },
 "nbformat": 4,
 "nbformat_minor": 2
}
