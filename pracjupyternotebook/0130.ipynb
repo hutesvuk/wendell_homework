{
 "cells": [
  {
   "cell_type": "markdown",
   "metadata": {},
   "source": [
    "get a series of number randomly.\n",
    "first, type: %pylab inline, then input randint(means random integer)\n",
    "oh, and if we want to get some numbers from 1-20, we should input like this:randint(1, 21), it means we can get numbers that is in the range of 1<= a < 20"
   ]
  },
  {
   "cell_type": "code",
   "execution_count": 1,
   "metadata": {},
   "outputs": [
    {
     "name": "stdout",
     "output_type": "stream",
     "text": [
      "Populating the interactive namespace from numpy and matplotlib\n"
     ]
    }
   ],
   "source": [
    "%pylab inline"
   ]
  },
  {
   "cell_type": "markdown",
   "metadata": {},
   "source": [
    "design a game- guess the number"
   ]
  },
  {
   "cell_type": "code",
   "execution_count": 2,
   "metadata": {},
   "outputs": [
    {
     "ename": "SyntaxError",
     "evalue": "invalid syntax (<ipython-input-2-df4b3e13f1f5>, line 6)",
     "output_type": "error",
     "traceback": [
      "\u001b[1;36m  File \u001b[1;32m\"<ipython-input-2-df4b3e13f1f5>\"\u001b[1;36m, line \u001b[1;32m6\u001b[0m\n\u001b[1;33m    for a!=A:\u001b[0m\n\u001b[1;37m          ^\u001b[0m\n\u001b[1;31mSyntaxError\u001b[0m\u001b[1;31m:\u001b[0m invalid syntax\n"
     ]
    }
   ],
   "source": [
    "A = randint(2, 30)\n",
    "a=\"\"\n",
    "while a == A:\n",
    "    a = input(\"your answer is:\")\n",
    "    print(\"right!\")\n",
    "for a!=A:\n",
    "    a = input(\"your answer is:\")\n",
    "    if a > str(A):\n",
    "        print(\"down\")\n",
    "    if a < str(A):\n",
    "        print(\"up\")"
   ]
  },
  {
   "cell_type": "code",
   "execution_count": null,
   "metadata": {},
   "outputs": [],
   "source": []
  }
 ],
 "metadata": {
  "kernelspec": {
   "display_name": "Python 3",
   "language": "python",
   "name": "python3"
  },
  "language_info": {
   "codemirror_mode": {
    "name": "ipython",
    "version": 3
   },
   "file_extension": ".py",
   "mimetype": "text/x-python",
   "name": "python",
   "nbconvert_exporter": "python",
   "pygments_lexer": "ipython3",
   "version": "3.6.5"
  }
 },
 "nbformat": 4,
 "nbformat_minor": 2
}
